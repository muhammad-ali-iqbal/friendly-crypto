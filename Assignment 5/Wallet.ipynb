{
  "nbformat": 4,
  "nbformat_minor": 0,
  "metadata": {
    "colab": {
      "name": "Wallet.ipynb",
      "provenance": []
    },
    "kernelspec": {
      "name": "python3",
      "display_name": "Python 3"
    },
    "language_info": {
      "name": "python"
    }
  },
  "cells": [
    {
      "cell_type": "code",
      "execution_count": 1,
      "metadata": {
        "colab": {
          "base_uri": "https://localhost:8080/"
        },
        "id": "vdRN9EGlOLTL",
        "outputId": "0ac29f0f-2b87-4247-f32a-2024604b72d5"
      },
      "outputs": [
        {
          "output_type": "stream",
          "name": "stdout",
          "text": [
            "Collecting bitcoin\n",
            "  Downloading bitcoin-1.1.42.tar.gz (36 kB)\n",
            "Building wheels for collected packages: bitcoin\n",
            "  Building wheel for bitcoin (setup.py) ... \u001b[?25l\u001b[?25hdone\n",
            "  Created wheel for bitcoin: filename=bitcoin-1.1.42-py3-none-any.whl size=44423 sha256=959ad01d6d4267250fbeb52ede6361302c626d9543f2aab777b38edb6eb1ea54\n",
            "  Stored in directory: /root/.cache/pip/wheels/6c/66/7d/2b4114252aed67e75a79a1235ce8b2701da915acac6f6d7061\n",
            "Successfully built bitcoin\n",
            "Installing collected packages: bitcoin\n",
            "Successfully installed bitcoin-1.1.42\n"
          ]
        }
      ],
      "source": [
        "!pip install bitcoin"
      ]
    },
    {
      "cell_type": "code",
      "source": [
        "from bitcoin import *\n",
        "pkey = random_key()\n",
        "print(\"your private key is: \" + pkey)\n",
        "pubkey = privtopub(pkey)\n",
        "print(\"your public key is: \" + pubkey)\n",
        "bAdd = pubtoaddr(pubkey)\n",
        "print(\"your bitcoin address is: \" + bAdd)"
      ],
      "metadata": {
        "colab": {
          "base_uri": "https://localhost:8080/"
        },
        "id": "6m-zuBdPXSpz",
        "outputId": "c20ac1cd-7078-4cd3-8c4d-2fe2dc13779f"
      },
      "execution_count": 2,
      "outputs": [
        {
          "output_type": "stream",
          "name": "stdout",
          "text": [
            "your private key is: f9484205315f8c44248550c3ea65f84885d2366e59f92216f5b5c5e0793f5647\n",
            "your public key is: 04a8cb4e2e1117a8d61afeff0c7949e43bee0d9f0e14036611f7c4d7f166fa5efb9a414c87a7f60291e41b87b290e648634394c6f58ac2b8f0fe5f2b4e32877fd6\n",
            "your bitcoin address is: 1HkwqBMEnXwo55sPDb5FLN65G4vjD1UsTS\n"
          ]
        }
      ]
    }
  ]
}